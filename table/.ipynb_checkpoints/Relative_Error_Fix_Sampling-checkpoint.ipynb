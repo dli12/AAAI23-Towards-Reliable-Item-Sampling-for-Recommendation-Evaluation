{
 "cells": [
  {
   "cell_type": "code",
   "execution_count": 1,
   "id": "5cbcbdd9",
   "metadata": {},
   "outputs": [],
   "source": [
    "import warnings\n",
    "warnings.filterwarnings('ignore')\n",
    "import numpy as np\n",
    "import scipy.stats as stats\n",
    "\n",
    "\n",
    "import matplotlib.pyplot as plt\n",
    "import pandas as pd\n",
    "import os\n",
    "import seaborn as sns\n",
    "\n",
    "from tqdm import tqdm\n",
    "\n",
    "from utils import *"
   ]
  },
  {
   "cell_type": "markdown",
   "id": "c72dda5c",
   "metadata": {},
   "source": [
    "# Load Data"
   ]
  },
  {
   "cell_type": "code",
   "execution_count": 2,
   "id": "f42e0a5a",
   "metadata": {},
   "outputs": [],
   "source": [
    "nums = {'pinterest-20':9916, 'yelp':25815,  'ml-20m':20720}\n",
    "\n",
    "datasets = ['pinterest-20','yelp','ml-20m']\n",
    "\n",
    "models = ['EASE','MultiVAE','NeuMF','itemKNN','ALS']\n",
    "\n",
    "estimators = ['MES','MLE','BV_uniform','BV_MES','BV_MLE', 'MN_MES','MN_MLE']"
   ]
  },
  {
   "cell_type": "code",
   "execution_count": 36,
   "id": "7999f3b0",
   "metadata": {},
   "outputs": [],
   "source": [
    "sample_size = 500\n",
    "repeats = 100"
   ]
  },
  {
   "cell_type": "code",
   "execution_count": 37,
   "id": "e2aa4ecb",
   "metadata": {},
   "outputs": [],
   "source": [
    "metric = 'AP'\n",
    "topk = 50"
   ]
  },
  {
   "cell_type": "code",
   "execution_count": 38,
   "id": "04f96b4e",
   "metadata": {},
   "outputs": [
    {
     "name": "stderr",
     "output_type": "stream",
     "text": [
      "100%|██████████| 7/7 [00:00<00:00, 22.47it/s]\n",
      "100%|██████████| 7/7 [00:00<00:00, 21.99it/s]\n",
      "100%|██████████| 7/7 [00:00<00:00, 21.91it/s]\n",
      "100%|██████████| 7/7 [00:00<00:00, 22.55it/s]\n",
      "100%|██████████| 7/7 [00:00<00:00, 22.59it/s]\n",
      "100%|██████████| 7/7 [00:00<00:00, 16.97it/s]\n",
      "100%|██████████| 7/7 [00:00<00:00, 17.18it/s]\n",
      "100%|██████████| 7/7 [00:00<00:00, 17.07it/s]\n",
      "100%|██████████| 7/7 [00:00<00:00, 17.08it/s]\n",
      "100%|██████████| 7/7 [00:00<00:00, 17.27it/s]\n",
      "100%|██████████| 7/7 [00:00<00:00, 18.67it/s]\n",
      "100%|██████████| 7/7 [00:00<00:00, 18.57it/s]\n",
      "100%|██████████| 7/7 [00:00<00:00, 18.50it/s]\n",
      "100%|██████████| 7/7 [00:00<00:00, 18.50it/s]\n",
      "100%|██████████| 7/7 [00:00<00:00, 18.99it/s]\n"
     ]
    }
   ],
   "source": [
    "f = open('results/' + metric +'_mean_std_sample%d.txt'%sample_size, 'w')\n",
    "\n",
    "for e in estimators:\n",
    "    f.write(e + '\\t')\n",
    "f.write('\\n')\n",
    "\n",
    "for dataset in (datasets):\n",
    "    \n",
    "    f.write(dataset + '\\n')\n",
    "    #print('dataset : %s'%dataset)\n",
    "    for model in models:\n",
    "        \n",
    "        N = nums[dataset]\n",
    "        \n",
    "        ru, Ru =  load_True(model, dataset)\n",
    "\n",
    "        M = len(Ru)# total number of users\n",
    "\n",
    "        True_PR = rank_order(Ru, N)/M\n",
    "        \n",
    "        metric_true = eval(metric + '_K(True_PR, topk)')\n",
    "        \n",
    "        \n",
    "        for estimator in tqdm(estimators):\n",
    "   \n",
    "            #PR_total = get_estimate(model, dataset, estimator)\n",
    "            PR_total = get_fix_estimate(model, dataset, estimator, n = sample_size, repeats = repeats)\n",
    "            \n",
    "            error = list()\n",
    "            \n",
    "            for i in np.arange(repeats):\n",
    "                \n",
    "                PR = PR_total[i]\n",
    "                metric_PR = eval(metric + '_K(PR, topk)')\n",
    "                relative_error = abs_relative(metric_PR, metric_true)\n",
    "                \n",
    "                error.append(relative_error)\n",
    "                \n",
    "            errors = np.array(error)*100\n",
    "            \n",
    "            mean = errors.mean()\n",
    "\n",
    "            mean = '{:.2f}'.format(round(mean, 2))\n",
    "            #f.write(str(mean)+'\\t')\n",
    "\n",
    "            f.write(str(mean)+'yyy')\n",
    "\n",
    "\n",
    "            std = errors.std()\n",
    "\n",
    "            std = '{:.2f}'.format(round(std, 2))\n",
    "\n",
    "            f.write(str(std)+'\\t')\n",
    "      \n",
    "        f.write('\\n')\n",
    "        \n",
    "f.close()"
   ]
  },
  {
   "cell_type": "code",
   "execution_count": null,
   "id": "7392bdb5",
   "metadata": {},
   "outputs": [],
   "source": []
  }
 ],
 "metadata": {
  "kernelspec": {
   "display_name": "Python 3",
   "language": "python",
   "name": "python3"
  },
  "language_info": {
   "codemirror_mode": {
    "name": "ipython",
    "version": 3
   },
   "file_extension": ".py",
   "mimetype": "text/x-python",
   "name": "python",
   "nbconvert_exporter": "python",
   "pygments_lexer": "ipython3",
   "version": "3.6.13"
  }
 },
 "nbformat": 4,
 "nbformat_minor": 5
}
