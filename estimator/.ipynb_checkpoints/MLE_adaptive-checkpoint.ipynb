{
 "cells": [
  {
   "cell_type": "code",
   "execution_count": 1,
   "id": "e5412b97",
   "metadata": {},
   "outputs": [],
   "source": [
    "import warnings\n",
    "warnings.filterwarnings('ignore')\n",
    "\n",
    "import matplotlib.pyplot as plt\n",
    "import seaborn as sns\n",
    "import pandas as pd\n",
    "import os\n",
    "import numpy as np\n",
    "\n",
    "from tqdm import tqdm\n",
    "\n",
    "import scipy.stats as stats\n",
    "\n",
    "import utils\n",
    "import torch\n",
    "import time"
   ]
  },
  {
   "cell_type": "code",
   "execution_count": 2,
   "id": "be300ec0",
   "metadata": {},
   "outputs": [],
   "source": [
    "import torch"
   ]
  },
  {
   "cell_type": "code",
   "execution_count": 3,
   "id": "3c5d406f",
   "metadata": {},
   "outputs": [],
   "source": [
    "device = torch.device('cuda:1' if torch.cuda.is_available() else 'cpu')"
   ]
  },
  {
   "cell_type": "code",
   "execution_count": 4,
   "id": "3b12b8fd",
   "metadata": {},
   "outputs": [],
   "source": [
    "def update_user2(nu, ru, pi):\n",
    "\n",
    "    #P_rRu = generate_PrR(N, nu, ru)\n",
    "    P_rRu = eval('A'+str(nu))[ru].clone().detach()\n",
    "    #P_rRu = torch.tensor(P_rRu).to(device)\n",
    "    \n",
    "    temp = P_rRu * pi\n",
    "    temp = temp/temp.sum()    \n",
    "\n",
    "    return temp"
   ]
  },
  {
   "cell_type": "code",
   "execution_count": 5,
   "id": "1346fe10",
   "metadata": {},
   "outputs": [],
   "source": [
    "nums = {'pinterest-20':9916, 'yelp':25815, 'ml-20m':20720}\n",
    "\n",
    "datasets = ['ml-20m', 'pinterest-20', 'yelp']\n",
    "\n",
    "models = ['EASE','MultiVAE','NeuMF','itemKNN', 'ALS']\n",
    "\n",
    "metrics = ['Recall', 'NDCG', 'AP']"
   ]
  },
  {
   "cell_type": "code",
   "execution_count": 6,
   "id": "aacd0d15",
   "metadata": {},
   "outputs": [],
   "source": [
    "def repeat_load_model(model_name, dataset, i):\n",
    "    \n",
    "    path = '../results/adaptive_sample/' + dataset +'/' + model_name + '/'\n",
    "    #path = \"./results/sample%d/\"%n + dataset + '/' + model + '/'\n",
    "    \n",
    "    data = np.load(path + \"%d.npz\"%i)\n",
    "    \n",
    "    population = data['origin']\n",
    "    sample = data['sample']\n",
    "    user_size = data['size']\n",
    "    \n",
    "    return sample, population, user_size"
   ]
  },
  {
   "cell_type": "code",
   "execution_count": 7,
   "id": "eac39761",
   "metadata": {},
   "outputs": [],
   "source": [
    "n = 100\n",
    "\n",
    "size = 100\n",
    "\n",
    "repeats = 100\n",
    "\n",
    "epoch = 50# training epoch"
   ]
  },
  {
   "cell_type": "code",
   "execution_count": 8,
   "id": "cd050a21",
   "metadata": {},
   "outputs": [],
   "source": [
    "dataset = 'ml-20m'\n",
    "\n",
    "N = nums[dataset]"
   ]
  },
  {
   "cell_type": "code",
   "execution_count": 9,
   "id": "254d7964",
   "metadata": {},
   "outputs": [],
   "source": [
    "A100 = utils.A_nN(N, 100)\n",
    "A200 = utils.A_nN(N, 200)\n",
    "A400 = utils.A_nN(N, 400)\n",
    "A800 = utils.A_nN(N, 800)\n",
    "A1600 = utils.A_nN(N, 1600)\n",
    "A3200 = utils.A_nN(N, 3200)\n",
    "\n",
    "A100 = torch.tensor(A100).to(device)\n",
    "A200 = torch.tensor(A200).to(device)\n",
    "A400 = torch.tensor(A400).to(device)\n",
    "A800 = torch.tensor(A800).to(device)\n",
    "A1600 = torch.tensor(A1600).to(device)\n",
    "A3200 = torch.tensor(A3200).to(device)"
   ]
  },
  {
   "cell_type": "code",
   "execution_count": 10,
   "id": "29f19269",
   "metadata": {},
   "outputs": [],
   "source": [
    "models = ['itemKNN', 'ALS']"
   ]
  },
  {
   "cell_type": "code",
   "execution_count": 11,
   "id": "f410e7ea",
   "metadata": {},
   "outputs": [
    {
     "name": "stderr",
     "output_type": "stream",
     "text": [
      "100%|██████████| 100/100 [9:57:39<00:00, 358.60s/it] \n",
      "100%|██████████| 100/100 [9:38:56<00:00, 347.36s/it] \n"
     ]
    }
   ],
   "source": [
    "for model in models: \n",
    "    \n",
    "    save_path = '../save_PR/' + 'adaptive_sample/' + dataset + '/MLE_adaptive/' + model + '/'\n",
    "\n",
    "    if not os.path.exists(save_path):\n",
    "        os.makedirs(save_path)\n",
    "\n",
    "    for re in tqdm(range(repeats)):\n",
    "\n",
    "        ru, Ru, nu = repeat_load_model(model, dataset, re)\n",
    "\n",
    "        pi = torch.ones(N)/N\n",
    "        pi = pi.to(device)\n",
    "\n",
    "        for e in (range(epoch)):\n",
    "\n",
    "            new_pi = torch.zeros_like(pi)\n",
    "\n",
    "            for i in (range(len(ru))):\n",
    "                new_pi += update_user2(nu[i], ru[i], pi)\n",
    "\n",
    "            pi = new_pi/len(ru)\n",
    "\n",
    "        np.savez(save_path + '%d.npz'%re, R = pi.cpu().numpy())"
   ]
  },
  {
   "cell_type": "code",
   "execution_count": null,
   "id": "ebcbfd4f",
   "metadata": {},
   "outputs": [],
   "source": []
  }
 ],
 "metadata": {
  "kernelspec": {
   "display_name": "Python 3",
   "language": "python",
   "name": "python3"
  },
  "language_info": {
   "codemirror_mode": {
    "name": "ipython",
    "version": 3
   },
   "file_extension": ".py",
   "mimetype": "text/x-python",
   "name": "python",
   "nbconvert_exporter": "python",
   "pygments_lexer": "ipython3",
   "version": "3.6.13"
  }
 },
 "nbformat": 4,
 "nbformat_minor": 5
}
