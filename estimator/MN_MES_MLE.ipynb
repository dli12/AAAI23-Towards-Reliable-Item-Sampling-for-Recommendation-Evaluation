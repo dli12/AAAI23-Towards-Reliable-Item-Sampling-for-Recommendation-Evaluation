{
 "cells": [
  {
   "cell_type": "code",
   "execution_count": 1,
   "id": "049df464",
   "metadata": {},
   "outputs": [],
   "source": [
    "import warnings\n",
    "warnings.filterwarnings('ignore')\n",
    "\n",
    "import numpy as np\n",
    "import scipy.stats as stats\n",
    "import pandas as pd\n",
    "import utils\n",
    "import os\n",
    "import matplotlib.pyplot as plt\n",
    "import time\n",
    "\n",
    "from tqdm import tqdm\n",
    "from utils import *"
   ]
  },
  {
   "cell_type": "code",
   "execution_count": 2,
   "id": "92ac6e18",
   "metadata": {},
   "outputs": [],
   "source": [
    "import torch"
   ]
  },
  {
   "cell_type": "code",
   "execution_count": 3,
   "id": "cf13c622",
   "metadata": {},
   "outputs": [],
   "source": [
    "device = torch.device('cuda:2' if torch.cuda.is_available() else 'cpu')"
   ]
  },
  {
   "cell_type": "code",
   "execution_count": 4,
   "id": "c2eabdf7",
   "metadata": {},
   "outputs": [],
   "source": [
    "n = 500 # sample size\n",
    "\n",
    "repeats = 100"
   ]
  },
  {
   "cell_type": "code",
   "execution_count": 5,
   "id": "1719ad3c",
   "metadata": {},
   "outputs": [],
   "source": [
    "def new_PR_gpu(A, D, H):\n",
    "    \n",
    "    gamma = 1/H\n",
    "    \n",
    "    AT = A.T\n",
    "    \n",
    "    G1 = A.sum(0)\n",
    "    \n",
    "    W = AT@D@A - gamma * AT@A + gamma * torch.diag(G1).to(device)\n",
    "    \n",
    "    W = torch.inverse(W)\n",
    "    \n",
    "    W = W@AT@D\n",
    "   \n",
    "    \n",
    "    return W"
   ]
  },
  {
   "cell_type": "code",
   "execution_count": 6,
   "id": "a05ebe82",
   "metadata": {},
   "outputs": [],
   "source": [
    "nums = {'pinterest-20':9916, 'yelp':25815, 'ml-20m':20720}\n",
    "\n",
    "datasets = ['ml-20m', 'pinterest-20', 'yelp']\n",
    "\n",
    "models = ['EASE','MultiVAE','NeuMF','itemKNN','ALS']\n",
    "\n",
    "\n",
    "metrics = ['Recall', 'NDCG', 'AP']"
   ]
  },
  {
   "cell_type": "code",
   "execution_count": 7,
   "id": "f0e20cba",
   "metadata": {},
   "outputs": [],
   "source": [
    "def get_estimate(model, dataset, estimator, n):\n",
    "    \n",
    "    temp_list = list()\n",
    "    path = '../save_PR/' +'fix_sample_%d/'%n +dataset + '/'+estimator+'/' + model + '/'\n",
    "    for re in range(repeats):\n",
    "\n",
    "        R = np.load(path + '%d.npz'%re)['R']\n",
    "        temp_list.append(R)\n",
    "\n",
    "    temp_array = np.array(temp_list)\n",
    "    \n",
    "    return temp_array"
   ]
  },
  {
   "cell_type": "code",
   "execution_count": 8,
   "id": "6de207a3",
   "metadata": {},
   "outputs": [
    {
     "name": "stdout",
     "output_type": "stream",
     "text": [
      "processing ml-20m\n",
      "processing EASE\n"
     ]
    },
    {
     "name": "stderr",
     "output_type": "stream",
     "text": [
      "100%|██████████| 100/100 [06:49<00:00,  4.09s/it]\n"
     ]
    },
    {
     "name": "stdout",
     "output_type": "stream",
     "text": [
      "processing MultiVAE\n"
     ]
    },
    {
     "name": "stderr",
     "output_type": "stream",
     "text": [
      "100%|██████████| 100/100 [06:21<00:00,  3.81s/it]\n"
     ]
    },
    {
     "name": "stdout",
     "output_type": "stream",
     "text": [
      "processing NeuMF\n"
     ]
    },
    {
     "name": "stderr",
     "output_type": "stream",
     "text": [
      "100%|██████████| 100/100 [06:17<00:00,  3.78s/it]\n"
     ]
    },
    {
     "name": "stdout",
     "output_type": "stream",
     "text": [
      "processing itemKNN\n"
     ]
    },
    {
     "name": "stderr",
     "output_type": "stream",
     "text": [
      "100%|██████████| 100/100 [06:31<00:00,  3.91s/it]\n"
     ]
    },
    {
     "name": "stdout",
     "output_type": "stream",
     "text": [
      "processing ALS\n"
     ]
    },
    {
     "name": "stderr",
     "output_type": "stream",
     "text": [
      "100%|██████████| 100/100 [06:18<00:00,  3.78s/it]\n",
      "  0%|          | 0/100 [00:00<?, ?it/s]"
     ]
    },
    {
     "name": "stdout",
     "output_type": "stream",
     "text": [
      "processing pinterest-20\n",
      "processing EASE\n"
     ]
    },
    {
     "name": "stderr",
     "output_type": "stream",
     "text": [
      "100%|██████████| 100/100 [01:11<00:00,  1.40it/s]\n",
      "  0%|          | 0/100 [00:00<?, ?it/s]"
     ]
    },
    {
     "name": "stdout",
     "output_type": "stream",
     "text": [
      "processing MultiVAE\n"
     ]
    },
    {
     "name": "stderr",
     "output_type": "stream",
     "text": [
      "100%|██████████| 100/100 [01:11<00:00,  1.39it/s]\n",
      "  0%|          | 0/100 [00:00<?, ?it/s]"
     ]
    },
    {
     "name": "stdout",
     "output_type": "stream",
     "text": [
      "processing NeuMF\n"
     ]
    },
    {
     "name": "stderr",
     "output_type": "stream",
     "text": [
      "100%|██████████| 100/100 [01:12<00:00,  1.38it/s]\n",
      "  0%|          | 0/100 [00:00<?, ?it/s]"
     ]
    },
    {
     "name": "stdout",
     "output_type": "stream",
     "text": [
      "processing itemKNN\n"
     ]
    },
    {
     "name": "stderr",
     "output_type": "stream",
     "text": [
      "100%|██████████| 100/100 [01:11<00:00,  1.40it/s]\n",
      "  0%|          | 0/100 [00:00<?, ?it/s]"
     ]
    },
    {
     "name": "stdout",
     "output_type": "stream",
     "text": [
      "processing ALS\n"
     ]
    },
    {
     "name": "stderr",
     "output_type": "stream",
     "text": [
      "100%|██████████| 100/100 [01:12<00:00,  1.38it/s]\n"
     ]
    },
    {
     "name": "stdout",
     "output_type": "stream",
     "text": [
      "processing yelp\n",
      "processing EASE\n"
     ]
    },
    {
     "name": "stderr",
     "output_type": "stream",
     "text": [
      "100%|██████████| 100/100 [01:31<00:00,  1.09it/s]\n"
     ]
    },
    {
     "name": "stdout",
     "output_type": "stream",
     "text": [
      "processing MultiVAE\n"
     ]
    },
    {
     "name": "stderr",
     "output_type": "stream",
     "text": [
      "100%|██████████| 100/100 [01:31<00:00,  1.10it/s]\n"
     ]
    },
    {
     "name": "stdout",
     "output_type": "stream",
     "text": [
      "processing NeuMF\n"
     ]
    },
    {
     "name": "stderr",
     "output_type": "stream",
     "text": [
      "100%|██████████| 100/100 [01:29<00:00,  1.11it/s]\n"
     ]
    },
    {
     "name": "stdout",
     "output_type": "stream",
     "text": [
      "processing itemKNN\n"
     ]
    },
    {
     "name": "stderr",
     "output_type": "stream",
     "text": [
      "100%|██████████| 100/100 [01:28<00:00,  1.13it/s]\n"
     ]
    },
    {
     "name": "stdout",
     "output_type": "stream",
     "text": [
      "processing ALS\n"
     ]
    },
    {
     "name": "stderr",
     "output_type": "stream",
     "text": [
      "100%|██████████| 100/100 [01:28<00:00,  1.13it/s]\n"
     ]
    }
   ],
   "source": [
    "for dataset in datasets:\n",
    "    \n",
    "    \n",
    "    N = nums[dataset]\n",
    "    \n",
    "    AA = utils.A_Nn(N, n)\n",
    "    AA = torch.tensor(AA).float().to(device)\n",
    "    \n",
    "    print('processing %s'%dataset)\n",
    "    \n",
    "    for model in models:\n",
    "        \n",
    "        print('processing %s'%model)\n",
    "        \n",
    "        save_path = '../save_PR/' + 'fix_sample_%d/'%n + dataset + '/MN_MES/' + model + '/'\n",
    "   \n",
    "\n",
    "        if not os.path.exists(save_path):\n",
    "            os.makedirs(save_path)\n",
    "\n",
    "        ru, Ru = fix_load_model(model, dataset, n, 0)\n",
    "        H = len(ru)\n",
    "        \n",
    "        \n",
    "        PR_MES = get_estimate(model, dataset, 'MES', n).mean(0)\n",
    "        em_PR = torch.tensor(PR_MES).float()\n",
    "        \n",
    "        D = torch.diag(em_PR).to(device)\n",
    "\n",
    "        W = new_PR_gpu(AA, D, H)\n",
    "        W = W.cpu().numpy()\n",
    "        \n",
    "        for re in tqdm(range(repeats)):\n",
    "        \n",
    "\n",
    "            #ru, Ru = repeat_load_model(model, re, n)\n",
    "            ru, Ru = fix_load_model(model, dataset, n, re)\n",
    "            WW = W[:][ru]\n",
    "            PR = WW.mean(0)\n",
    "\n",
    "            np.savez(save_path+ '%d.npz'%re, R = PR)"
   ]
  },
  {
   "cell_type": "code",
   "execution_count": null,
   "id": "9ecfda4d",
   "metadata": {},
   "outputs": [],
   "source": []
  }
 ],
 "metadata": {
  "kernelspec": {
   "display_name": "Python 3",
   "language": "python",
   "name": "python3"
  },
  "language_info": {
   "codemirror_mode": {
    "name": "ipython",
    "version": 3
   },
   "file_extension": ".py",
   "mimetype": "text/x-python",
   "name": "python",
   "nbconvert_exporter": "python",
   "pygments_lexer": "ipython3",
   "version": "3.6.13"
  }
 },
 "nbformat": 4,
 "nbformat_minor": 5
}
