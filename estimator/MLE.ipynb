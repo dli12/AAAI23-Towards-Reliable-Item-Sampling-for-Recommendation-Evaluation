{
 "cells": [
  {
   "cell_type": "code",
   "execution_count": 1,
   "id": "e5412b97",
   "metadata": {},
   "outputs": [],
   "source": [
    "import warnings\n",
    "warnings.filterwarnings('ignore')\n",
    "\n",
    "import matplotlib.pyplot as plt\n",
    "import seaborn as sns\n",
    "import pandas as pd\n",
    "import os\n",
    "import numpy as np\n",
    "\n",
    "from tqdm import tqdm\n",
    "\n",
    "import scipy.stats as stats\n",
    "\n",
    "\n",
    "from utils import *\n",
    "import utils\n",
    "\n",
    "import torch\n",
    "import time"
   ]
  },
  {
   "cell_type": "code",
   "execution_count": 2,
   "id": "3c975f9a",
   "metadata": {},
   "outputs": [],
   "source": [
    "def update_gpu(xu, pi, P_Rr):\n",
    "    '''\n",
    "    xu is the rank of ru\n",
    "    pi is the p_r\n",
    "    P_Rr is the P(r|R) , shape is N x n\n",
    "    '''\n",
    "    temp = pi.view(-1, 1) * P_Rr\n",
    "    temp_sum = temp.sum(0)\n",
    "\n",
    "    bot = torch.reciprocal(temp_sum).repeat((N, 1))\n",
    "\n",
    "    z_Rr = bot * temp\n",
    "    z_rR = z_Rr.T\n",
    " \n",
    "    pi = z_rR[xu]\n",
    "    pi = pi.mean(0)\n",
    "\n",
    "    return pi"
   ]
  },
  {
   "cell_type": "code",
   "execution_count": 3,
   "id": "3c5d406f",
   "metadata": {},
   "outputs": [],
   "source": [
    "device = torch.device('cuda:2' if torch.cuda.is_available() else 'cpu')"
   ]
  },
  {
   "cell_type": "code",
   "execution_count": 4,
   "id": "1346fe10",
   "metadata": {},
   "outputs": [],
   "source": [
    "nums = {'pinterest-20':9916, 'yelp':25815, 'ml-20m':20720}\n",
    "\n",
    "datasets = ['ml-20m', 'pinterest-20', 'yelp']\n",
    "\n",
    "models = ['EASE','MultiVAE','NeuMF','itemKNN', 'ALS']\n",
    "\n",
    "\n",
    "metrics = ['Recall', 'NDCG', 'AP']"
   ]
  },
  {
   "cell_type": "code",
   "execution_count": 5,
   "id": "eac39761",
   "metadata": {},
   "outputs": [],
   "source": [
    "n = 500\n",
    "\n",
    "repeats = 100\n",
    "\n",
    "epoch = 100"
   ]
  },
  {
   "cell_type": "code",
   "execution_count": 6,
   "id": "6f60a985",
   "metadata": {},
   "outputs": [
    {
     "name": "stderr",
     "output_type": "stream",
     "text": [
      "\r",
      "  0%|          | 0/100 [00:00<?, ?it/s]"
     ]
    },
    {
     "name": "stdout",
     "output_type": "stream",
     "text": [
      "EASE\n"
     ]
    },
    {
     "name": "stderr",
     "output_type": "stream",
     "text": [
      "100%|██████████| 100/100 [26:34<00:00, 15.94s/it]\n",
      "  0%|          | 0/100 [00:00<?, ?it/s]"
     ]
    },
    {
     "name": "stdout",
     "output_type": "stream",
     "text": [
      "MultiVAE\n"
     ]
    },
    {
     "name": "stderr",
     "output_type": "stream",
     "text": [
      "100%|██████████| 100/100 [24:55<00:00, 14.96s/it]\n",
      "  0%|          | 0/100 [00:00<?, ?it/s]"
     ]
    },
    {
     "name": "stdout",
     "output_type": "stream",
     "text": [
      "NeuMF\n"
     ]
    },
    {
     "name": "stderr",
     "output_type": "stream",
     "text": [
      "100%|██████████| 100/100 [27:12<00:00, 16.33s/it]\n",
      "  0%|          | 0/100 [00:00<?, ?it/s]"
     ]
    },
    {
     "name": "stdout",
     "output_type": "stream",
     "text": [
      "itemKNN\n"
     ]
    },
    {
     "name": "stderr",
     "output_type": "stream",
     "text": [
      "100%|██████████| 100/100 [32:56<00:00, 19.76s/it]\n",
      "  0%|          | 0/100 [00:00<?, ?it/s]"
     ]
    },
    {
     "name": "stdout",
     "output_type": "stream",
     "text": [
      "ALS\n"
     ]
    },
    {
     "name": "stderr",
     "output_type": "stream",
     "text": [
      "100%|██████████| 100/100 [29:27<00:00, 17.68s/it]\n",
      "  0%|          | 0/100 [00:00<?, ?it/s]"
     ]
    },
    {
     "name": "stdout",
     "output_type": "stream",
     "text": [
      "EASE\n"
     ]
    },
    {
     "name": "stderr",
     "output_type": "stream",
     "text": [
      "100%|██████████| 100/100 [05:41<00:00,  3.41s/it]\n",
      "  0%|          | 0/100 [00:00<?, ?it/s]"
     ]
    },
    {
     "name": "stdout",
     "output_type": "stream",
     "text": [
      "MultiVAE\n"
     ]
    },
    {
     "name": "stderr",
     "output_type": "stream",
     "text": [
      "100%|██████████| 100/100 [05:32<00:00,  3.33s/it]\n",
      "  0%|          | 0/100 [00:00<?, ?it/s]"
     ]
    },
    {
     "name": "stdout",
     "output_type": "stream",
     "text": [
      "NeuMF\n"
     ]
    },
    {
     "name": "stderr",
     "output_type": "stream",
     "text": [
      "100%|██████████| 100/100 [05:54<00:00,  3.55s/it]\n",
      "  0%|          | 0/100 [00:00<?, ?it/s]"
     ]
    },
    {
     "name": "stdout",
     "output_type": "stream",
     "text": [
      "itemKNN\n"
     ]
    },
    {
     "name": "stderr",
     "output_type": "stream",
     "text": [
      "100%|██████████| 100/100 [05:29<00:00,  3.30s/it]\n",
      "  0%|          | 0/100 [00:00<?, ?it/s]"
     ]
    },
    {
     "name": "stdout",
     "output_type": "stream",
     "text": [
      "ALS\n"
     ]
    },
    {
     "name": "stderr",
     "output_type": "stream",
     "text": [
      "100%|██████████| 100/100 [06:20<00:00,  3.80s/it]\n",
      "  0%|          | 0/100 [00:00<?, ?it/s]"
     ]
    },
    {
     "name": "stdout",
     "output_type": "stream",
     "text": [
      "EASE\n"
     ]
    },
    {
     "name": "stderr",
     "output_type": "stream",
     "text": [
      "100%|██████████| 100/100 [13:06<00:00,  7.86s/it]\n",
      "  0%|          | 0/100 [00:00<?, ?it/s]"
     ]
    },
    {
     "name": "stdout",
     "output_type": "stream",
     "text": [
      "MultiVAE\n"
     ]
    },
    {
     "name": "stderr",
     "output_type": "stream",
     "text": [
      "100%|██████████| 100/100 [13:17<00:00,  7.98s/it]\n",
      "  0%|          | 0/100 [00:00<?, ?it/s]"
     ]
    },
    {
     "name": "stdout",
     "output_type": "stream",
     "text": [
      "NeuMF\n"
     ]
    },
    {
     "name": "stderr",
     "output_type": "stream",
     "text": [
      "100%|██████████| 100/100 [13:13<00:00,  7.94s/it]\n",
      "  0%|          | 0/100 [00:00<?, ?it/s]"
     ]
    },
    {
     "name": "stdout",
     "output_type": "stream",
     "text": [
      "itemKNN\n"
     ]
    },
    {
     "name": "stderr",
     "output_type": "stream",
     "text": [
      "100%|██████████| 100/100 [12:50<00:00,  7.70s/it]\n",
      "  0%|          | 0/100 [00:00<?, ?it/s]"
     ]
    },
    {
     "name": "stdout",
     "output_type": "stream",
     "text": [
      "ALS\n"
     ]
    },
    {
     "name": "stderr",
     "output_type": "stream",
     "text": [
      "100%|██████████| 100/100 [13:30<00:00,  8.11s/it]\n"
     ]
    }
   ],
   "source": [
    "for dataset in datasets:\n",
    "    \n",
    "    N = nums[dataset]\n",
    "    AA = utils.A_Nn(N, n)\n",
    "    P_Rr = torch.tensor(AA).to(device)\n",
    "    \n",
    "    for model in models:\n",
    "        \n",
    "        print(model)\n",
    "\n",
    "        save_path = '../save_PR/' + 'fix_sample_%d/'%n + dataset + '/MLE/' + model + '/'\n",
    "        \n",
    "        if not os.path.exists(save_path):\n",
    "            os.makedirs(save_path)\n",
    "            \n",
    "        for re in tqdm(range(repeats)):\n",
    "            \n",
    "            ru, _  = fix_load_model(model, dataset, n, re)\n",
    "            \n",
    "            xu = torch.tensor(ru).to(device)\n",
    "            \n",
    "            pi = torch.ones(N)/N\n",
    "            pi = pi.to(device)\n",
    "            \n",
    "            for i in range(epoch):\n",
    "                \n",
    "                pi = update_gpu(xu, pi, P_Rr)\n",
    "            \n",
    "            np.savez(save_path + '%d.npz'%re, R = pi.cpu().numpy())"
   ]
  },
  {
   "cell_type": "code",
   "execution_count": null,
   "id": "d9c3eb68",
   "metadata": {},
   "outputs": [],
   "source": []
  }
 ],
 "metadata": {
  "kernelspec": {
   "display_name": "Python 3",
   "language": "python",
   "name": "python3"
  },
  "language_info": {
   "codemirror_mode": {
    "name": "ipython",
    "version": 3
   },
   "file_extension": ".py",
   "mimetype": "text/x-python",
   "name": "python",
   "nbconvert_exporter": "python",
   "pygments_lexer": "ipython3",
   "version": "3.6.13"
  }
 },
 "nbformat": 4,
 "nbformat_minor": 5
}
