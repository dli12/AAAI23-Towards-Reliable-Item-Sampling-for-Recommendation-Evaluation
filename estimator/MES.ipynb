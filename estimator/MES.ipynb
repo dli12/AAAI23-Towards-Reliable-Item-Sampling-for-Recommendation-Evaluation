{
 "cells": [
  {
   "cell_type": "code",
   "execution_count": 1,
   "id": "8ffc4c34",
   "metadata": {},
   "outputs": [],
   "source": [
    "import warnings\n",
    "warnings.filterwarnings('ignore')\n",
    "\n",
    "import numpy as np\n",
    "import scipy.stats as stats\n",
    "\n",
    "import utils\n",
    "import matplotlib.pyplot as plt\n",
    "import cvxpy as cp\n",
    "\n",
    "import pandas as pd\n",
    "import os\n",
    "import seaborn as sns\n",
    "\n",
    "from tqdm import tqdm"
   ]
  },
  {
   "cell_type": "code",
   "execution_count": 2,
   "id": "46943c83",
   "metadata": {},
   "outputs": [],
   "source": [
    "from utils import *"
   ]
  },
  {
   "cell_type": "code",
   "execution_count": 3,
   "id": "5c6977dd",
   "metadata": {},
   "outputs": [],
   "source": [
    "nums = {'pinterest-20':9916, 'yelp':25815, 'ml-20m':20720}\n",
    "\n",
    "datasets = ['ml-20m', 'pinterest-20', 'yelp']\n",
    "\n",
    "models = ['EASE','MultiVAE','NeuMF','itemKNN','ALS']\n",
    "\n",
    "\n",
    "metrics = ['Recall', 'NDCG', 'AP']"
   ]
  },
  {
   "cell_type": "code",
   "execution_count": 4,
   "id": "6013e27a",
   "metadata": {},
   "outputs": [],
   "source": [
    "n = 500 # sample size + 1\n",
    "gamma = 0.01\n",
    "repeats = 100"
   ]
  },
  {
   "cell_type": "code",
   "execution_count": 5,
   "id": "ca5a3f4a",
   "metadata": {},
   "outputs": [
    {
     "name": "stderr",
     "output_type": "stream",
     "text": [
      "\r",
      "  0%|          | 0/100 [00:00<?, ?it/s]"
     ]
    },
    {
     "name": "stdout",
     "output_type": "stream",
     "text": [
      "EASE\n"
     ]
    },
    {
     "name": "stderr",
     "output_type": "stream",
     "text": [
      "100%|██████████| 100/100 [37:34<00:00, 22.55s/it]\n",
      "  0%|          | 0/100 [00:00<?, ?it/s]"
     ]
    },
    {
     "name": "stdout",
     "output_type": "stream",
     "text": [
      "MultiVAE\n"
     ]
    },
    {
     "name": "stderr",
     "output_type": "stream",
     "text": [
      "100%|██████████| 100/100 [34:51<00:00, 20.92s/it]\n",
      "  0%|          | 0/100 [00:00<?, ?it/s]"
     ]
    },
    {
     "name": "stdout",
     "output_type": "stream",
     "text": [
      "NeuMF\n"
     ]
    },
    {
     "name": "stderr",
     "output_type": "stream",
     "text": [
      "100%|██████████| 100/100 [33:26<00:00, 20.06s/it]\n",
      "  0%|          | 0/100 [00:00<?, ?it/s]"
     ]
    },
    {
     "name": "stdout",
     "output_type": "stream",
     "text": [
      "itemKNN\n"
     ]
    },
    {
     "name": "stderr",
     "output_type": "stream",
     "text": [
      "100%|██████████| 100/100 [33:31<00:00, 20.12s/it]\n",
      "  0%|          | 0/100 [00:00<?, ?it/s]"
     ]
    },
    {
     "name": "stdout",
     "output_type": "stream",
     "text": [
      "ALS\n"
     ]
    },
    {
     "name": "stderr",
     "output_type": "stream",
     "text": [
      "100%|██████████| 100/100 [33:26<00:00, 20.06s/it]\n",
      "  0%|          | 0/100 [00:00<?, ?it/s]"
     ]
    },
    {
     "name": "stdout",
     "output_type": "stream",
     "text": [
      "EASE\n"
     ]
    },
    {
     "name": "stderr",
     "output_type": "stream",
     "text": [
      "100%|██████████| 100/100 [12:49<00:00,  7.70s/it]\n",
      "  0%|          | 0/100 [00:00<?, ?it/s]"
     ]
    },
    {
     "name": "stdout",
     "output_type": "stream",
     "text": [
      "MultiVAE\n"
     ]
    },
    {
     "name": "stderr",
     "output_type": "stream",
     "text": [
      "100%|██████████| 100/100 [12:37<00:00,  7.57s/it]\n",
      "  0%|          | 0/100 [00:00<?, ?it/s]"
     ]
    },
    {
     "name": "stdout",
     "output_type": "stream",
     "text": [
      "NeuMF\n"
     ]
    },
    {
     "name": "stderr",
     "output_type": "stream",
     "text": [
      "100%|██████████| 100/100 [12:48<00:00,  7.68s/it]\n",
      "  0%|          | 0/100 [00:00<?, ?it/s]"
     ]
    },
    {
     "name": "stdout",
     "output_type": "stream",
     "text": [
      "itemKNN\n"
     ]
    },
    {
     "name": "stderr",
     "output_type": "stream",
     "text": [
      "100%|██████████| 100/100 [12:56<00:00,  7.76s/it]\n",
      "  0%|          | 0/100 [00:00<?, ?it/s]"
     ]
    },
    {
     "name": "stdout",
     "output_type": "stream",
     "text": [
      "ALS\n"
     ]
    },
    {
     "name": "stderr",
     "output_type": "stream",
     "text": [
      "100%|██████████| 100/100 [13:52<00:00,  8.32s/it]\n",
      "  0%|          | 0/100 [00:00<?, ?it/s]"
     ]
    },
    {
     "name": "stdout",
     "output_type": "stream",
     "text": [
      "EASE\n"
     ]
    },
    {
     "name": "stderr",
     "output_type": "stream",
     "text": [
      "100%|██████████| 100/100 [40:07<00:00, 24.07s/it]\n",
      "  0%|          | 0/100 [00:00<?, ?it/s]"
     ]
    },
    {
     "name": "stdout",
     "output_type": "stream",
     "text": [
      "MultiVAE\n"
     ]
    },
    {
     "name": "stderr",
     "output_type": "stream",
     "text": [
      "100%|██████████| 100/100 [38:37<00:00, 23.17s/it]\n",
      "  0%|          | 0/100 [00:00<?, ?it/s]"
     ]
    },
    {
     "name": "stdout",
     "output_type": "stream",
     "text": [
      "NeuMF\n"
     ]
    },
    {
     "name": "stderr",
     "output_type": "stream",
     "text": [
      "100%|██████████| 100/100 [38:33<00:00, 23.13s/it]\n",
      "  0%|          | 0/100 [00:00<?, ?it/s]"
     ]
    },
    {
     "name": "stdout",
     "output_type": "stream",
     "text": [
      "itemKNN\n"
     ]
    },
    {
     "name": "stderr",
     "output_type": "stream",
     "text": [
      "100%|██████████| 100/100 [39:17<00:00, 23.58s/it]\n",
      "  0%|          | 0/100 [00:00<?, ?it/s]"
     ]
    },
    {
     "name": "stdout",
     "output_type": "stream",
     "text": [
      "ALS\n"
     ]
    },
    {
     "name": "stderr",
     "output_type": "stream",
     "text": [
      "100%|██████████| 100/100 [39:01<00:00, 23.41s/it]\n"
     ]
    }
   ],
   "source": [
    "for dataset in datasets:\n",
    "    \n",
    "    N = nums[dataset]\n",
    "    \n",
    "    F = np.diag(np.ones(N))\n",
    "    g = np.zeros(N)\n",
    "\n",
    "    A1 = np.ones(N).reshape(1, -1)\n",
    "    b = 1.\n",
    "\n",
    "    A = utils.A_Nn(N, n)\n",
    "    AT = A.transpose()\n",
    "\n",
    "    for model in models:\n",
    "\n",
    "        print(model)\n",
    "\n",
    "\n",
    "        # for fix sample\n",
    "        save_path = '../save_PR/' + 'fix_sample_%d/'%n + dataset + '/MES/' + model + '/'\n",
    "\n",
    "        if not os.path.exists(save_path):\n",
    "                os.makedirs(save_path)\n",
    "\n",
    "        for re in tqdm(range(repeats)):\n",
    "\n",
    "            ru, Ru = fix_load_model(model, dataset, n, re)\n",
    "\n",
    "            # weight\n",
    "            xu = ru.copy()\n",
    "\n",
    "            ru = ru + 1\n",
    "            Ru = Ru + 1\n",
    "\n",
    "            pr = get_pr(xu, n)\n",
    "\n",
    "\n",
    "            x = cp.Variable(N)\n",
    "            #obj = cp.Minimize(cp.sum(cp.multiply(cp.log(AT@x + c), pr) - gamma * cp.sum(cp.entr(x))))\n",
    "            #obj = cp.Minimize(-cp.sum( cp.multiply(cp.log(AT + 1e-9)@x, pr)) - gamma * cp.sum(cp.entr(x)))\n",
    "            obj = cp.Minimize(cp.sum(cp.square(AT@x - pr)@pr*n)- gamma * cp.sum(cp.entr(x)))\n",
    "            constraints = [A1@x == b,\n",
    "                           F@x >= g]\n",
    "\n",
    "            prob = cp.Problem(obj, constraints)\n",
    "\n",
    "            prob.solve(solver=cp.MOSEK, verbose=False)\n",
    "\n",
    "            pi = np.array(x.value)\n",
    "\n",
    "            np.savez(save_path + '%d.npz'%re, R = pi)"
   ]
  }
 ],
 "metadata": {
  "kernelspec": {
   "display_name": "Python 3",
   "language": "python",
   "name": "python3"
  },
  "language_info": {
   "codemirror_mode": {
    "name": "ipython",
    "version": 3
   },
   "file_extension": ".py",
   "mimetype": "text/x-python",
   "name": "python",
   "nbconvert_exporter": "python",
   "pygments_lexer": "ipython3",
   "version": "3.6.13"
  }
 },
 "nbformat": 4,
 "nbformat_minor": 5
}
