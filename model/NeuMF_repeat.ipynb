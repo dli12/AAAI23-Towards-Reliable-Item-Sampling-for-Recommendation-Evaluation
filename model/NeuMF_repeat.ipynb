{
 "cells": [
  {
   "cell_type": "code",
   "execution_count": 1,
   "id": "45fa5d4c",
   "metadata": {},
   "outputs": [],
   "source": [
    "import warnings\n",
    "warnings.filterwarnings('ignore')\n",
    "\n",
    "import numpy as np \n",
    "import pandas as pd \n",
    "import os\n",
    "import time\n",
    "import argparse\n",
    "import scipy.sparse as sparse\n",
    "import random\n",
    "from tqdm import tqdm\n",
    "\n",
    "import torch\n",
    "import torch.nn as nn\n",
    "import torch.nn.functional as F\n",
    "from torch.utils.data import Dataset, DataLoader"
   ]
  },
  {
   "cell_type": "code",
   "execution_count": 2,
   "id": "1475afe3",
   "metadata": {},
   "outputs": [],
   "source": [
    "from model_util import *\n",
    "from Model import *"
   ]
  },
  {
   "cell_type": "code",
   "execution_count": 3,
   "id": "cf3c6c6e",
   "metadata": {},
   "outputs": [],
   "source": [
    "device = torch.device('cuda:3' if torch.cuda.is_available() else 'cpu')"
   ]
  },
  {
   "cell_type": "code",
   "execution_count": 4,
   "id": "fb7f2d01",
   "metadata": {},
   "outputs": [],
   "source": [
    "size = 500 # sample size + 1\n",
    "\n",
    "repeats = 100"
   ]
  },
  {
   "cell_type": "code",
   "execution_count": 5,
   "id": "9d19fae7",
   "metadata": {},
   "outputs": [],
   "source": [
    "data_path = '../data/processed_data/'\n",
    "test_data_path = '../data/fix_sample_%d/'%size\n",
    "\n",
    "saved_path = 'saved_model/'"
   ]
  },
  {
   "cell_type": "code",
   "execution_count": 6,
   "id": "30613356",
   "metadata": {},
   "outputs": [],
   "source": [
    "datasets = ['pinterest-20','yelp','ml-20m']"
   ]
  },
  {
   "cell_type": "code",
   "execution_count": null,
   "id": "a18301fa",
   "metadata": {},
   "outputs": [
    {
     "name": "stdout",
     "output_type": "stream",
     "text": [
      "processing pinterest-20\n"
     ]
    },
    {
     "name": "stderr",
     "output_type": "stream",
     "text": [
      "100%|██████████| 100/100 [54:35<00:00, 32.75s/it]\n"
     ]
    },
    {
     "name": "stdout",
     "output_type": "stream",
     "text": [
      "processing yelp\n"
     ]
    },
    {
     "name": "stderr",
     "output_type": "stream",
     "text": [
      "100%|██████████| 100/100 [40:13<00:00, 24.14s/it]\n"
     ]
    },
    {
     "name": "stdout",
     "output_type": "stream",
     "text": [
      "processing ml-20m\n"
     ]
    },
    {
     "name": "stderr",
     "output_type": "stream",
     "text": [
      " 69%|██████▉   | 69/100 [2:13:07<59:40, 115.49s/it]  "
     ]
    }
   ],
   "source": [
    "for dataset in datasets:\n",
    "    \n",
    "    rank_save_path = '../results/fix_sample_%d/'%size + dataset +'/NeuMF/'\n",
    "    \n",
    "    print('processing %s'%dataset)\n",
    "    \n",
    "    data_reader = DataReader(data_path, dataset)\n",
    "    num_user, num_item = data_reader.get_user_item()\n",
    "    topk = int(num_item)\n",
    "\n",
    "    #URM_train = data_reader.get_URM_train()\n",
    "    \n",
    "    model = torch.load(saved_path + dataset + '/NeuMF.pt').to(device)\n",
    "    \n",
    "    model.eval()\n",
    "    \n",
    "    for i in tqdm(range(repeats)):\n",
    "\n",
    "        u_dict = np.load(test_data_path + dataset + '/%d.npy'%i, allow_pickle = True).item()\n",
    "        \n",
    "        if i ==0:\n",
    "            g = []\n",
    "            \n",
    "        s = []\n",
    "\n",
    "        for user, items in u_dict.items():\n",
    "\n",
    "            data_tensor = torch.tensor(user).to(device)\n",
    "\n",
    "            predictions = model.evaluate_user(data_tensor)\n",
    "            predictions = predictions.view(-1)\n",
    "\n",
    "            # for global \n",
    "            if i == 0:\n",
    "                global_scores = predictions\n",
    "                _, indicies = torch.topk(global_scores, topk)\n",
    "\n",
    "                g_rank_list = indicies.cpu().numpy().tolist()\n",
    "                g_rank = g_rank_list.index(items[0])\n",
    "\n",
    "                g.append(g_rank)\n",
    "\n",
    "            #for sample\n",
    "            sample_scores = predictions[items]\n",
    "            _, indicies = torch.topk(sample_scores, size)\n",
    "\n",
    "            s_rank_list = np.take(items, indicies.cpu().numpy())\n",
    "            s_rank = s_rank_list.tolist().index(items[0])\n",
    "\n",
    "            s.append(s_rank)\n",
    "\n",
    "        save_Repeat(rank_save_path, s, g, i)"
   ]
  }
 ],
 "metadata": {
  "kernelspec": {
   "display_name": "Python 3",
   "language": "python",
   "name": "python3"
  },
  "language_info": {
   "codemirror_mode": {
    "name": "ipython",
    "version": 3
   },
   "file_extension": ".py",
   "mimetype": "text/x-python",
   "name": "python",
   "nbconvert_exporter": "python",
   "pygments_lexer": "ipython3",
   "version": "3.6.13"
  }
 },
 "nbformat": 4,
 "nbformat_minor": 5
}
