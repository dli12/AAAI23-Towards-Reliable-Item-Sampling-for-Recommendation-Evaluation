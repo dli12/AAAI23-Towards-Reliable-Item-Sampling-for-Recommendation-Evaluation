{
 "cells": [
  {
   "cell_type": "code",
   "execution_count": 1,
   "id": "45fa5d4c",
   "metadata": {},
   "outputs": [],
   "source": [
    "import warnings\n",
    "warnings.filterwarnings('ignore')\n",
    "\n",
    "import numpy as np \n",
    "import pandas as pd \n",
    "import os\n",
    "import time\n",
    "import argparse\n",
    "import scipy.sparse as sparse\n",
    "import random\n",
    "from tqdm import tqdm\n",
    "\n",
    "import torch\n",
    "import torch.nn as nn\n",
    "import torch.nn.functional as F\n",
    "from torch.utils.data import Dataset, DataLoader"
   ]
  },
  {
   "cell_type": "code",
   "execution_count": 2,
   "id": "1475afe3",
   "metadata": {},
   "outputs": [],
   "source": [
    "from model_util import *\n",
    "from Model import *"
   ]
  },
  {
   "cell_type": "code",
   "execution_count": 3,
   "id": "fb7f2d01",
   "metadata": {},
   "outputs": [],
   "source": [
    "size = 100 # sample size + 1\n",
    "\n",
    "repeats = 100\n",
    "\n",
    "data_path = '../data/processed_data/'\n",
    "test_data_path = '../data/fix_sample_%d/'%size\n",
    "\n",
    "saved_path = 'saved_model/'\n",
    "\n",
    "datasets = ['pinterest-20','yelp','ml-20m']\n",
    "\n",
    "device = torch.device('cuda:3' if torch.cuda.is_available() else 'cpu')"
   ]
  },
  {
   "cell_type": "code",
   "execution_count": 4,
   "id": "aa503c59",
   "metadata": {},
   "outputs": [],
   "source": [
    "sample_size_list = [100, 200, 400, 800, 1600]"
   ]
  },
  {
   "cell_type": "code",
   "execution_count": 5,
   "id": "a18301fa",
   "metadata": {},
   "outputs": [
    {
     "name": "stdout",
     "output_type": "stream",
     "text": [
      "processing pinterest-20\n"
     ]
    },
    {
     "name": "stderr",
     "output_type": "stream",
     "text": [
      "100%|██████████| 100/100 [1:31:41<00:00, 55.02s/it]\n"
     ]
    },
    {
     "name": "stdout",
     "output_type": "stream",
     "text": [
      "processing yelp\n"
     ]
    },
    {
     "name": "stderr",
     "output_type": "stream",
     "text": [
      "100%|██████████| 100/100 [1:19:30<00:00, 47.71s/it]\n"
     ]
    },
    {
     "name": "stdout",
     "output_type": "stream",
     "text": [
      "processing ml-20m\n"
     ]
    },
    {
     "name": "stderr",
     "output_type": "stream",
     "text": [
      "100%|██████████| 100/100 [10:20:42<00:00, 372.43s/it] \n"
     ]
    }
   ],
   "source": [
    "for dataset in datasets:\n",
    "    \n",
    "    #rank_save_path = '../results/fix_sample_%d/'%size + dataset +'/NeuMF/'\n",
    "    \n",
    "    print('processing %s'%dataset)\n",
    "    \n",
    "    data_reader = DataReader(data_path, dataset)\n",
    "    num_user, num_item = data_reader.get_user_item()\n",
    "    topk = int(num_item)\n",
    "\n",
    "    #URM_train = data_reader.get_URM_train()\n",
    "    \n",
    "    model = torch.load(saved_path + dataset + '/NeuMF.pt').to(device)\n",
    "    \n",
    "    model.eval()\n",
    "    \n",
    "    for i in tqdm(range(repeats)):\n",
    "\n",
    "        np.random.seed(i + 33573517)\n",
    "        \n",
    "        u_dict = np.load(test_data_path + dataset + '/%d.npy'%i, allow_pickle = True).item()\n",
    "        \n",
    "        new_dict = {}\n",
    "\n",
    "        global_rank = []# global rank list\n",
    "\n",
    "        sample_rank = []# sample rank list\n",
    "\n",
    "        sample_size = [] # sample size\n",
    "\n",
    "        for user, items in u_dict.items():\n",
    "            \n",
    "            new_dict[user] = items.copy()\n",
    "\n",
    "            data_tensor = torch.tensor(user).to(device)\n",
    "\n",
    "            predictions = model.evaluate_user(data_tensor)\n",
    "            predictions = predictions.view(-1)\n",
    "\n",
    "            # for global\n",
    "            global_scores = predictions\n",
    "            _, global_indicies = torch.topk(global_scores, topk)\n",
    "\n",
    "            g_rank_list = global_indicies.cpu().numpy().tolist()\n",
    "            g_rank = g_rank_list.index(items[0])\n",
    "\n",
    "            global_rank.append(g_rank)\n",
    "\n",
    "            # for sample\n",
    "            sample_scores = predictions[items]\n",
    "            _, sample_indicies = torch.topk(sample_scores, size)\n",
    "\n",
    "            s_rank_list = np.take(items, sample_indicies.cpu().numpy())\n",
    "            s_rank = s_rank_list.tolist().index(items[0])\n",
    "\n",
    "\n",
    "            # adaptive\n",
    "            current_size = size\n",
    "            current_rank = s_rank\n",
    "\n",
    "            if current_rank == 0:\n",
    "\n",
    "                for s_size in sample_size_list:\n",
    "\n",
    "                    while(True):\n",
    "\n",
    "                        new_ranks = np.random.choice(num_item, size = s_size + 100, replace = True)\n",
    "                        new_ranks = new_ranks[new_ranks != g_rank]\n",
    "                        if len(new_ranks) >= s_size:\n",
    "                            break\n",
    "\n",
    "                    # keep s_size ranks without the target item rank\n",
    "                    new_ranks = new_ranks[:s_size]\n",
    "\n",
    "                    new_items = global_indicies[new_ranks].cpu().numpy()\n",
    "\n",
    "                    new_dict[user].extend(new_items.tolist())\n",
    "\n",
    "                    h_rank = ((new_ranks < g_rank)*1.0).sum()\n",
    "\n",
    "                    current_rank += h_rank\n",
    "                    current_size += s_size\n",
    "\n",
    "                    if current_rank != 0:\n",
    "                        break\n",
    "\n",
    "            sample_rank.append(current_rank)\n",
    "            sample_size.append(current_size)\n",
    "\n",
    "        s = np.array(sample_rank).astype('int')\n",
    "        g = np.array(global_rank).astype('int')\n",
    "        sz = np.array(sample_size).astype('int')\n",
    " \n",
    "        save_Adaptive(dataset, 'NeuMF', s, g, sz, new_dict, i)"
   ]
  }
 ],
 "metadata": {
  "kernelspec": {
   "display_name": "Python 3",
   "language": "python",
   "name": "python3"
  },
  "language_info": {
   "codemirror_mode": {
    "name": "ipython",
    "version": 3
   },
   "file_extension": ".py",
   "mimetype": "text/x-python",
   "name": "python",
   "nbconvert_exporter": "python",
   "pygments_lexer": "ipython3",
   "version": "3.6.13"
  }
 },
 "nbformat": 4,
 "nbformat_minor": 5
}
