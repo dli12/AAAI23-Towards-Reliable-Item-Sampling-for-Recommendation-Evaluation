{
 "cells": [
  {
   "cell_type": "code",
   "execution_count": 1,
   "id": "3eca4b98",
   "metadata": {},
   "outputs": [],
   "source": [
    "import warnings\n",
    "warnings.filterwarnings('ignore')\n",
    "\n",
    "import torch\n",
    "import torch.nn as nn\n",
    "\n",
    "import numpy as np\n",
    "import pandas as pd\n",
    "from scipy import sparse\n",
    "from tqdm import tqdm"
   ]
  },
  {
   "cell_type": "code",
   "execution_count": 2,
   "id": "7be5efeb",
   "metadata": {},
   "outputs": [],
   "source": [
    "from model_util import *\n",
    "from Model import *"
   ]
  },
  {
   "cell_type": "code",
   "execution_count": 3,
   "id": "087a8e51",
   "metadata": {},
   "outputs": [],
   "source": [
    "dataset = 'yelp'\n",
    "\n",
    "device = torch.device('cuda:3' if torch.cuda.is_available() else 'cpu')"
   ]
  },
  {
   "cell_type": "code",
   "execution_count": 4,
   "id": "e5fbe51a",
   "metadata": {},
   "outputs": [],
   "source": [
    "data_path = '../data/processed_data/'\n",
    "\n",
    "data_reader = DataReader(data_path, dataset)\n",
    "\n",
    "URM_train = data_reader.get_URM_train()\n",
    "\n",
    "validation_data_path = '../data/validation_data/'\n",
    "validation_u_dict = np.load(validation_data_path + dataset + '_dict.npy', allow_pickle = True).item()\n",
    "\n",
    "num_user, num_item = data_reader.get_user_item()"
   ]
  },
  {
   "cell_type": "code",
   "execution_count": 5,
   "id": "e4d05e5a",
   "metadata": {},
   "outputs": [],
   "source": [
    "def sample_eval(F, u_dict, device, topk = 10):\n",
    "    \n",
    "\n",
    "    RECALL = []\n",
    "    \n",
    "    for user, items in u_dict.items():\n",
    "    \n",
    "        \n",
    "        predictions = F[user][items]\n",
    "        predictions = torch.tensor(predictions).view(-1).float().to(device)\n",
    "        \n",
    "        _, indices = torch.topk(predictions, topk)\n",
    "        \n",
    "        item_tensor = torch.tensor(items).to(device)\n",
    "        top_items = torch.take(item_tensor, indices).cpu().numpy()\n",
    "\n",
    "        p_item = items[0]\n",
    "\n",
    "        if p_item in top_items:\n",
    "            RECALL.append(1)\n",
    "        else:\n",
    "            RECALL.append(0)\n",
    "\n",
    "    return np.mean(RECALL)"
   ]
  },
  {
   "cell_type": "code",
   "execution_count": 6,
   "id": "971bb17e",
   "metadata": {},
   "outputs": [
    {
     "data": {
      "text/plain": [
       "array([1.000000e-03, 5.000010e+02, 1.000001e+03, 1.500001e+03,\n",
       "       2.000001e+03, 2.500001e+03, 3.000001e+03, 3.500001e+03,\n",
       "       4.000001e+03, 4.500001e+03, 5.000001e+03, 5.500001e+03,\n",
       "       6.000001e+03, 6.500001e+03, 7.000001e+03, 7.500001e+03,\n",
       "       8.000001e+03, 8.500001e+03, 9.000001e+03, 9.500001e+03])"
      ]
     },
     "execution_count": 6,
     "metadata": {},
     "output_type": "execute_result"
    }
   ],
   "source": [
    "lamds_l = np.arange(0.001, 10000, 500)\n",
    "lamds_l"
   ]
  },
  {
   "cell_type": "code",
   "execution_count": 7,
   "id": "61c4b694",
   "metadata": {},
   "outputs": [],
   "source": [
    "model = EASE(URM_train, device)\n",
    "best_r10 = 0"
   ]
  },
  {
   "cell_type": "code",
   "execution_count": 8,
   "id": "95d34f8e",
   "metadata": {},
   "outputs": [
    {
     "name": "stderr",
     "output_type": "stream",
     "text": [
      "  5%|▌         | 1/20 [00:59<18:53, 59.65s/it]"
     ]
    },
    {
     "name": "stdout",
     "output_type": "stream",
     "text": [
      "0.001 0.13526250194734382\n"
     ]
    },
    {
     "name": "stderr",
     "output_type": "stream",
     "text": [
      "\r",
      " 10%|█         | 2/20 [01:26<12:10, 40.57s/it]"
     ]
    },
    {
     "name": "stdout",
     "output_type": "stream",
     "text": [
      "500.001 0.38904034896401307\n"
     ]
    },
    {
     "name": "stderr",
     "output_type": "stream",
     "text": [
      "100%|██████████| 20/20 [12:13<00:00, 36.69s/it]\n"
     ]
    }
   ],
   "source": [
    "for lamd in tqdm(lamds_l):\n",
    "\n",
    "    \n",
    "    BB = model.fit(lamd)\n",
    "    \n",
    "    BB = BB.cpu().numpy()\n",
    "    \n",
    "    F = URM_train.dot(BB)\n",
    "    \n",
    "    \n",
    "    r10 =  sample_eval(F, validation_u_dict, device)\n",
    "    \n",
    "    if r10 > best_r10:\n",
    "            \n",
    "        '''\n",
    "        save model/parameters\n",
    "        save best result\n",
    "        save hyper parameter\n",
    "        '''\n",
    "        print(lamd, r10)\n",
    "        best_r10 = r10"
   ]
  },
  {
   "cell_type": "raw",
   "id": "806a91b2",
   "metadata": {},
   "source": [
    "# Best lamd for different datasets:\n",
    "\n",
    "pinterest-20: 1500\n",
    "yelp: 500\n",
    "ml-20m: 3000"
   ]
  }
 ],
 "metadata": {
  "kernelspec": {
   "display_name": "Python 3",
   "language": "python",
   "name": "python3"
  },
  "language_info": {
   "codemirror_mode": {
    "name": "ipython",
    "version": 3
   },
   "file_extension": ".py",
   "mimetype": "text/x-python",
   "name": "python",
   "nbconvert_exporter": "python",
   "pygments_lexer": "ipython3",
   "version": "3.6.13"
  }
 },
 "nbformat": 4,
 "nbformat_minor": 5
}
