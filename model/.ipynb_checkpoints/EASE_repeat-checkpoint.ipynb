{
 "cells": [
  {
   "cell_type": "code",
   "execution_count": 1,
   "id": "45a1b8c1",
   "metadata": {},
   "outputs": [],
   "source": [
    "import warnings\n",
    "warnings.filterwarnings('ignore')\n",
    "import torch\n",
    "import torch.nn as nn\n",
    "\n",
    "import numpy as np\n",
    "import pandas as pd\n",
    "from scipy import sparse\n",
    "from tqdm import tqdm"
   ]
  },
  {
   "cell_type": "code",
   "execution_count": 2,
   "id": "ac6cbcf1",
   "metadata": {},
   "outputs": [],
   "source": [
    "from model_util import *\n",
    "from Model import *"
   ]
  },
  {
   "cell_type": "code",
   "execution_count": 3,
   "id": "ca320c9d",
   "metadata": {},
   "outputs": [],
   "source": [
    "device = torch.device('cuda:2' if torch.cuda.is_available() else 'cpu')"
   ]
  },
  {
   "cell_type": "code",
   "execution_count": 4,
   "id": "01023e04",
   "metadata": {},
   "outputs": [],
   "source": [
    "size = 100 # sample size + 1\n",
    "repeats = 10"
   ]
  },
  {
   "cell_type": "code",
   "execution_count": 5,
   "id": "519e82fa",
   "metadata": {},
   "outputs": [],
   "source": [
    "data_path = '../data/processed_data/'\n",
    "test_data_path = '../data/fix_sample_%d/'%size"
   ]
  },
  {
   "cell_type": "code",
   "execution_count": 6,
   "id": "3f4e20d2",
   "metadata": {},
   "outputs": [],
   "source": [
    "args = {'pinterest-20':1500, 'yelp':500, 'ml-20m':3000}\n",
    "datasets = ['pinterest-20','yelp', 'ml-20m']"
   ]
  },
  {
   "cell_type": "code",
   "execution_count": null,
   "id": "9c54a368",
   "metadata": {},
   "outputs": [],
   "source": [
    "for dataset in datasets:\n",
    "    \n",
    "    rank_save_path = '../results/fix_sample_%d/'%size + dataset +'/EASE/'\n",
    "    \n",
    "    print('processing %s'%dataset)\n",
    "    #u_dict = np.load(base_data_path + dataset + '_dict.npy', allow_pickle = True).item()\n",
    "    \n",
    "    data_reader = DataReader(data_path, dataset)\n",
    "    num_user, num_item = data_reader.get_user_item()\n",
    "    topk = int(num_item)\n",
    "\n",
    "    URM_train = data_reader.get_URM_train()\n",
    "\n",
    "    model = EASE(URM_train, device)\n",
    "\n",
    "    lamda = args[dataset]\n",
    "\n",
    "    BB = model.fit(lamda)\n",
    "    \n",
    "    BB = BB.cpu().numpy()\n",
    "    \n",
    "    F = URM_train.dot(BB)\n",
    "\n",
    "    for i in tqdm(range(repeats)):\n",
    "        \n",
    "        u_dict = np.load(test_data_path + dataset + '/%d.npy'%i, allow_pickle = True).item()\n",
    "        \n",
    "        if i ==0:\n",
    "            \n",
    "            g = []\n",
    "            \n",
    "        s = []\n",
    "\n",
    "        for user, items in u_dict.items():\n",
    "            \n",
    "            predictions = F[user]\n",
    "            predictions = torch.tensor(predictions).view(-1).float().to(device)\n",
    "\n",
    "#             predictions = model.evaluate_user(user)\n",
    "#             predictions = torch.tensor(predictions).view(-1).float()\n",
    "\n",
    "            # for global\n",
    "            if i == 0:\n",
    "                global_scores = predictions\n",
    "                _, indicies = torch.topk(global_scores, topk)\n",
    "\n",
    "                g_rank_list = indicies.cpu().numpy().tolist()\n",
    "                g_rank = g_rank_list.index(items[0])\n",
    "\n",
    "                g.append(g_rank)\n",
    "\n",
    "            #for sample\n",
    "            sample_scores = predictions[items]\n",
    "            _, indicies = torch.topk(sample_scores, len(items))\n",
    "\n",
    "            s_rank_list = np.take(items, indicies.cpu().numpy())\n",
    "            s_rank = s_rank_list.tolist().index(items[0])\n",
    "\n",
    "            s.append(s_rank)\n",
    "\n",
    "        save_Repeat(rank_save_path, s, g, i)"
   ]
  }
 ],
 "metadata": {
  "kernelspec": {
   "display_name": "Python 3",
   "language": "python",
   "name": "python3"
  },
  "language_info": {
   "codemirror_mode": {
    "name": "ipython",
    "version": 3
   },
   "file_extension": ".py",
   "mimetype": "text/x-python",
   "name": "python",
   "nbconvert_exporter": "python",
   "pygments_lexer": "ipython3",
   "version": "3.6.13"
  }
 },
 "nbformat": 4,
 "nbformat_minor": 5
}
