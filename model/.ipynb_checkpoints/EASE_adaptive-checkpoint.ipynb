{
 "cells": [
  {
   "cell_type": "code",
   "execution_count": 1,
   "id": "45a1b8c1",
   "metadata": {},
   "outputs": [],
   "source": [
    "import warnings\n",
    "warnings.filterwarnings('ignore')\n",
    "\n",
    "import torch\n",
    "import torch.nn as nn\n",
    "\n",
    "import numpy as np\n",
    "import pandas as pd\n",
    "from scipy import sparse\n",
    "from tqdm import tqdm"
   ]
  },
  {
   "cell_type": "code",
   "execution_count": 2,
   "id": "ac6cbcf1",
   "metadata": {},
   "outputs": [],
   "source": [
    "from model_util import *\n",
    "from Model import *"
   ]
  },
  {
   "cell_type": "code",
   "execution_count": 3,
   "id": "ca320c9d",
   "metadata": {},
   "outputs": [],
   "source": [
    "device = torch.device('cuda:1' if torch.cuda.is_available() else 'cpu')"
   ]
  },
  {
   "cell_type": "code",
   "execution_count": 4,
   "id": "01023e04",
   "metadata": {},
   "outputs": [],
   "source": [
    "size = 100 # sample size + 1\n",
    "repeats = 100\n",
    "\n",
    "data_path = '../data/processed_data/'\n",
    "test_data_path = '../data/fix_sample_%d/'%size\n",
    "\n",
    "args = {'pinterest-20':1500, 'yelp':500, 'ml-20m':3000}\n",
    "\n",
    "datasets = ['pinterest-20','yelp', 'ml-20m']"
   ]
  },
  {
   "cell_type": "code",
   "execution_count": 5,
   "id": "107f0269",
   "metadata": {},
   "outputs": [],
   "source": [
    "sample_size_list = [100, 200, 400, 800, 1600]"
   ]
  },
  {
   "cell_type": "code",
   "execution_count": 6,
   "id": "52c7aa2d",
   "metadata": {},
   "outputs": [
    {
     "name": "stdout",
     "output_type": "stream",
     "text": [
      "processing pinterest-20\n"
     ]
    },
    {
     "name": "stderr",
     "output_type": "stream",
     "text": [
      "100%|██████████| 100/100 [1:02:05<00:00, 37.26s/it]\n"
     ]
    },
    {
     "name": "stdout",
     "output_type": "stream",
     "text": [
      "processing yelp\n"
     ]
    },
    {
     "name": "stderr",
     "output_type": "stream",
     "text": [
      "100%|██████████| 100/100 [54:03<00:00, 32.44s/it]\n"
     ]
    },
    {
     "name": "stdout",
     "output_type": "stream",
     "text": [
      "processing ml-20m\n"
     ]
    },
    {
     "name": "stderr",
     "output_type": "stream",
     "text": [
      "100%|██████████| 100/100 [4:49:12<00:00, 173.52s/it] \n"
     ]
    }
   ],
   "source": [
    "for dataset in datasets:\n",
    "    \n",
    "    #rank_save_path = '../results/fix_sample_%d/'%size + dataset +'/EASE/'\n",
    "    \n",
    "    print('processing %s'%dataset)\n",
    "    #u_dict = np.load(base_data_path + dataset + '_dict.npy', allow_pickle = True).item()\n",
    "    \n",
    "    data_reader = DataReader(data_path, dataset)\n",
    "    num_user, num_item = data_reader.get_user_item()\n",
    "    topk = int(num_item)\n",
    "\n",
    "    URM_train = data_reader.get_URM_train()\n",
    "\n",
    "    model = EASE(URM_train, device)\n",
    "\n",
    "    lamda = args[dataset]\n",
    "\n",
    "    BB = model.fit(lamda)\n",
    "    \n",
    "    BB = BB.cpu().numpy()\n",
    "    \n",
    "    F = URM_train.dot(BB)\n",
    "\n",
    "    for i in tqdm(range(repeats)):\n",
    "        \n",
    "        np.random.seed(i + 33573517)\n",
    "        \n",
    "        u_dict = np.load(test_data_path + dataset + '/%d.npy'%i, allow_pickle = True).item()\n",
    "        \n",
    "        new_dict = {}\n",
    "        \n",
    "        global_rank = []# global rank list\n",
    "\n",
    "        sample_rank = []# sample rank list\n",
    "        \n",
    "        sample_size = [] # sample size\n",
    "\n",
    "\n",
    "        for user, items in u_dict.items():\n",
    "            \n",
    "            new_dict[user] = items.copy()\n",
    "            \n",
    "            predictions = F[user]\n",
    "            predictions = torch.tensor(predictions).view(-1).float().to(device)\n",
    "\n",
    "            # for global\n",
    "            global_scores = predictions\n",
    "            _, global_indicies = torch.topk(global_scores, topk)\n",
    "\n",
    "            g_rank_list = global_indicies.cpu().numpy().tolist()\n",
    "            g_rank = g_rank_list.index(items[0])\n",
    "\n",
    "            global_rank.append(g_rank)\n",
    "\n",
    "            # for sample\n",
    "            sample_scores = predictions[items]\n",
    "            _, sample_indicies = torch.topk(sample_scores, size)\n",
    "\n",
    "            s_rank_list = np.take(items, sample_indicies.cpu().numpy())\n",
    "            s_rank = s_rank_list.tolist().index(items[0])\n",
    "\n",
    "\n",
    "            # adaptive\n",
    "            current_size = size\n",
    "            current_rank = s_rank\n",
    "\n",
    "            if current_rank == 0:\n",
    "\n",
    "                for s_size in sample_size_list:\n",
    "\n",
    "                    while(True):\n",
    "\n",
    "                        new_ranks = np.random.choice(num_item, size = s_size + 100, replace = True)\n",
    "                        new_ranks = new_ranks[new_ranks != g_rank]\n",
    "                        if len(new_ranks) >= s_size:\n",
    "                            break\n",
    "\n",
    "                    # keep s_size ranks without the target item rank\n",
    "                    new_ranks = new_ranks[:s_size]\n",
    "\n",
    "                    new_items = global_indicies[new_ranks].cpu().numpy()\n",
    "\n",
    "                    new_dict[user].extend(new_items.tolist())\n",
    "\n",
    "                    h_rank = ((new_ranks < g_rank)*1.0).sum()\n",
    "\n",
    "                    current_rank += h_rank\n",
    "                    current_size += s_size\n",
    "\n",
    "                    if current_rank != 0:\n",
    "                        break\n",
    "\n",
    "            sample_rank.append(current_rank)\n",
    "            sample_size.append(current_size)\n",
    "\n",
    "        s = np.array(sample_rank).astype('int')\n",
    "        g = np.array(global_rank).astype('int')\n",
    "        sz = np.array(sample_size).astype('int')\n",
    " \n",
    "        save_Adaptive(dataset, 'EASE', s, g, sz, new_dict, i)"
   ]
  },
  {
   "cell_type": "code",
   "execution_count": null,
   "id": "9c54a368",
   "metadata": {},
   "outputs": [],
   "source": []
  }
 ],
 "metadata": {
  "kernelspec": {
   "display_name": "Python 3",
   "language": "python",
   "name": "python3"
  },
  "language_info": {
   "codemirror_mode": {
    "name": "ipython",
    "version": 3
   },
   "file_extension": ".py",
   "mimetype": "text/x-python",
   "name": "python",
   "nbconvert_exporter": "python",
   "pygments_lexer": "ipython3",
   "version": "3.6.13"
  }
 },
 "nbformat": 4,
 "nbformat_minor": 5
}
